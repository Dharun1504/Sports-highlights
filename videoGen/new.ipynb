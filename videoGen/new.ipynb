{
 "cells": [
  {
   "cell_type": "code",
   "execution_count": 1,
   "metadata": {},
   "outputs": [],
   "source": [
    "timestamps = [{'timestamp': [0.0, 9.0], 'text': \" He's nailed this. He's high in the air. He's got enough. Oh, yes, he does. He's six.\"},{'timestamp': [20.0, 25.0], 'text': \" picked it up the six pressure on Anderson. Ornith looks at it. That's good for a young gun.\"},{'timestamp': [33.0, 34.0], 'text': \" And he's got not got this.\"},{'timestamp': [36.0, 38.0], 'text': ' Right, 19.1.'},{'timestamp': [39.0, 41.0], 'text': ' The 194 for three New Zealand.'},{'timestamp': [41.0, 43.0], 'text': ' 192 for five England.'},{'timestamp': [63.0, 65.0], 'text': \" that's better. Dot ball. That ball for New Zealand went\"},{'timestamp': [65.0, 66.0], 'text': ' for four.'},{'timestamp': [103.0, 105.0], 'text': \" Tries the bounce and he's pulled into the leg side. He's got the crowd. Robbie Bupara has got the crowd. Fancy a nine. He's got the crowd.\"},{'timestamp': [133.46, 135.62], 'text': ' Down to a T20 here.'},{'timestamp': [185.0, 187.0], 'text': ' Like a side salad Cori Anderson. Good recovery is this.'},{'timestamp': [187.0, 189.0], 'text': ' Six off the first ball.'},{'timestamp': [205.88, 207.72], 'text': ' The final eight off two.'},{'timestamp': [208.44, 211.32], 'text': ' Left hand, though, hitting to the short boundary now.'},{'timestamp': [247.0, 250.0], 'text': ' Six for a super over.'},{'timestamp': [250.0, 252.0], 'text': ' And came super over.'},{'timestamp': [258.0, 260.0], 'text': ' Give it everything there Ben Stolkes'},{'timestamp': [322.52, 324.28], 'text': ' Robby with par a just a single'},{'timestamp': [324.28, 329.0], 'text': ' its New Zealand in a wonderfully entertaining game at T20 cricket.'},{'timestamp': [334.0, 336.0], 'text': ' Anderson, as did Butler.'},{'timestamp': [343.0, 345.36], 'text': ' Continuous changes of plans from Brendan McCullough,'}]"
   ]
  },
  {
   "cell_type": "code",
   "execution_count": 4,
   "metadata": {},
   "outputs": [],
   "source": [
    "def modifyTS(a):\n",
    "    t1 = a[0] - 2\n",
    "    if(t1 < 0):\n",
    "        t1 = 0\n",
    "    return [t1, a[1] + 2]"
   ]
  },
  {
   "cell_type": "code",
   "execution_count": 6,
   "metadata": {},
   "outputs": [],
   "source": [
    "def checkOverLap(a, b):\n",
    "    if(a[1] > b[0]):\n",
    "        b[0] = a[1]\n",
    "    return b "
   ]
  },
  {
   "cell_type": "code",
   "execution_count": 9,
   "metadata": {},
   "outputs": [
    {
     "data": {
      "text/plain": [
       "[[0, 11.0],\n",
       " [18.0, 27.0],\n",
       " [31.0, 36.0],\n",
       " [36.0, 40.0],\n",
       " [40.0, 43.0],\n",
       " [43.0, 45.0],\n",
       " [61.0, 67.0],\n",
       " [67.0, 68.0],\n",
       " [101.0, 107.0],\n",
       " [131.46, 137.62],\n",
       " [183.0, 189.0],\n",
       " [189.0, 191.0],\n",
       " [203.88, 209.72],\n",
       " [209.72, 213.32],\n",
       " [245.0, 252.0],\n",
       " [252.0, 254.0],\n",
       " [256.0, 262.0],\n",
       " [320.52, 326.28],\n",
       " [326.28, 331.0],\n",
       " [332.0, 338.0],\n",
       " [341.0, 347.36]]"
      ]
     },
     "execution_count": 9,
     "metadata": {},
     "output_type": "execute_result"
    }
   ],
   "source": [
    "t = []\n",
    "for i in timestamps:\n",
    "    if(len(t) != 0):\n",
    "       t.append(checkOverLap(t[-1], modifyTS(i['timestamp'])))\n",
    "    else:\n",
    "        t.append(modifyTS(i['timestamp']))\n",
    "t"
   ]
  },
  {
   "cell_type": "code",
   "execution_count": 10,
   "metadata": {},
   "outputs": [
    {
     "data": {
      "text/plain": [
       "[{'timestamp': [0, 11.0],\n",
       "  'text': \" He's nailed this. He's high in the air. He's got enough. Oh, yes, he does. He's six.\"},\n",
       " {'timestamp': [18.0, 27.0],\n",
       "  'text': \" picked it up the six pressure on Anderson. Ornith looks at it. That's good for a young gun.\"},\n",
       " {'timestamp': [31.0, 36.0], 'text': \" And he's got not got this.\"},\n",
       " {'timestamp': [36.0, 40.0], 'text': ' Right, 19.1.'},\n",
       " {'timestamp': [40.0, 43.0], 'text': ' The 194 for three New Zealand.'},\n",
       " {'timestamp': [43.0, 45.0], 'text': ' 192 for five England.'},\n",
       " {'timestamp': [61.0, 67.0],\n",
       "  'text': \" that's better. Dot ball. That ball for New Zealand went\"},\n",
       " {'timestamp': [67.0, 68.0], 'text': ' for four.'},\n",
       " {'timestamp': [101.0, 107.0],\n",
       "  'text': \" Tries the bounce and he's pulled into the leg side. He's got the crowd. Robbie Bupara has got the crowd. Fancy a nine. He's got the crowd.\"},\n",
       " {'timestamp': [131.46, 137.62], 'text': ' Down to a T20 here.'},\n",
       " {'timestamp': [183.0, 189.0],\n",
       "  'text': ' Like a side salad Cori Anderson. Good recovery is this.'},\n",
       " {'timestamp': [189.0, 191.0], 'text': ' Six off the first ball.'},\n",
       " {'timestamp': [203.88, 209.72], 'text': ' The final eight off two.'},\n",
       " {'timestamp': [209.72, 213.32],\n",
       "  'text': ' Left hand, though, hitting to the short boundary now.'},\n",
       " {'timestamp': [245.0, 252.0], 'text': ' Six for a super over.'},\n",
       " {'timestamp': [252.0, 254.0], 'text': ' And came super over.'},\n",
       " {'timestamp': [256.0, 262.0],\n",
       "  'text': ' Give it everything there Ben Stolkes'},\n",
       " {'timestamp': [320.52, 326.28], 'text': ' Robby with par a just a single'},\n",
       " {'timestamp': [326.28, 331.0],\n",
       "  'text': ' its New Zealand in a wonderfully entertaining game at T20 cricket.'},\n",
       " {'timestamp': [332.0, 338.0], 'text': ' Anderson, as did Butler.'},\n",
       " {'timestamp': [341.0, 347.36],\n",
       "  'text': ' Continuous changes of plans from Brendan McCullough,'}]"
      ]
     },
     "execution_count": 10,
     "metadata": {},
     "output_type": "execute_result"
    }
   ],
   "source": [
    "p = 0\n",
    "for i in timestamps:\n",
    "    i[\"timestamp\"] = t[p]\n",
    "    p += 1\n",
    "timestamps"
   ]
  },
  {
   "cell_type": "code",
   "execution_count": null,
   "metadata": {},
   "outputs": [],
   "source": []
  }
 ],
 "metadata": {
  "kernelspec": {
   "display_name": "base",
   "language": "python",
   "name": "python3"
  },
  "language_info": {
   "codemirror_mode": {
    "name": "ipython",
    "version": 3
   },
   "file_extension": ".py",
   "mimetype": "text/x-python",
   "name": "python",
   "nbconvert_exporter": "python",
   "pygments_lexer": "ipython3",
   "version": "3.10.9"
  }
 },
 "nbformat": 4,
 "nbformat_minor": 2
}
