{
 "cells": [
  {
   "cell_type": "code",
   "execution_count": 19,
   "metadata": {},
   "outputs": [],
   "source": [
    "from gemini import LLM_gemini\n",
    "import dotenv"
   ]
  },
  {
   "cell_type": "code",
   "execution_count": 20,
   "metadata": {},
   "outputs": [],
   "source": [
    "commentary =[{'timestamp': (0.0, 3.0), 'text': ' The pictures telling the story on every face.'}, {'timestamp': (6.0, 9.0), 'text': ' Unbelievable scenes at lords.'}, {'timestamp': (11.0, 13.0), 'text': \" It's the final over of the match.\"}, {'timestamp': (13.0, 14.0), 'text': \" It'll be ball by Stuart Broad.\"}, {'timestamp': (14.0, 16.0), 'text': ' Every fielder is around the bat.'}, {'timestamp': (17.0, 20.0), 'text': \" Max down the leg side and he's got it.\"}, {'timestamp': (20.0, 23.0), 'text': \" He hasn't even turned away for the umpire.\"}, {'timestamp': (23.0, 26.0), 'text': ' Nine down and five balls remaining.'}, {'timestamp': (26.0, 28.0), 'text': \" It couldn't be tighter.\"}, {'timestamp': (28.0, 30.0), 'text': \" It couldn't be more tense.\"}, {'timestamp': (30.0, 33.0), 'text': ' And the change works for England brilliant.'}, {'timestamp': (33.0, 35.0), 'text': ' Consuant broad.'}, {'timestamp': (35.0, 37.0), 'text': ' Another good catch from Matt Pryor.'}, {'timestamp': (37.0, 39.0), 'text': ' Harath walks straight off.'}, {'timestamp': (39.0, 41.0), 'text': ' Cross seam afric broad.'}, {'timestamp': (44.0, 46.08), 'text': ' Really good catch from Matthew Price.'}, {'timestamp': (46.08, 47.2), 'text': ' That excellent match.'}, {'timestamp': (47.52, 48.84), 'text': ' Harath goes for one.'}, {'timestamp': (49.72, 51.08), 'text': ' Sri Lanka nine down.'}, {'timestamp': (51.08, 52.4), 'text': ' Five balls remaining.'}, {'timestamp': (55.52, 57.12), 'text': ' Well, look at this picture.'}, {'timestamp': (57.12, 58.16), 'text': ' This is fascinating.'}, {'timestamp': (58.16, 62.48), 'text': ' A replay and it appears that the bottom hand is off the bat'}, {'timestamp': (63.04, 70.0), 'text': ' and had, um, Ragan Hereth reviewed that he would not have been given out after review because that hand is off the bat.'}, {'timestamp': (72.0, 78.0), 'text': \" Well he's got an average of five and the fact that he didn't have a bat sponsor, no stickers on there suggests to me that he isn't that good.\"}, {'timestamp': (79.0, 81.0), 'text': ' No one tried to be with his heart pumping.'}, {'timestamp': (83.0, 86.0), 'text': \" We'll sprint in here, expected full and straight.\"}, {'timestamp': (86.0, 91.0), 'text': ' Whoa, and he unsettles him with a bumper first up.'}, {'timestamp': (99.0, 104.0), 'text': ' He missed it, he missed it, the crowd thought he nicked it.'}, {'timestamp': (104.0, 109.12), 'text': ' Well, I reckon a more qualified right hand'}, {'timestamp': (109.12, 112.72), 'text': \" amight and nicked it because it's an absolute beauty on\"}, {'timestamp': (112.72, 113.92), 'text': ' and around the off stump.'}, {'timestamp': (114.56, 116.44), 'text': ' Get the bounce scene movement.'}, {'timestamp': (123.44, 127.0), 'text': \" It's the ball and well played well played all credit.\"}, {'timestamp': (127.0, 133.0), 'text': \" One pretty been behind it watched it didn't panic two balls remaining and need one wicked.\"}, {'timestamp': (133.0, 137.0), 'text': \" Tell you what it's pretty gloomy out there.\"}, {'timestamp': (137.0, 141.0), 'text': \" It's pretty gloomy for the Sri Lankan coach Marvin Atapata as well.\"}, {'timestamp': (141.0, 144.0), 'text': \" He can't even watch.\"}, {'timestamp': (144.0, 145.0), 'text': \" That's the ball. That's the ball. That's the ball. That's the match. And that's the review.\"}, {'timestamp': (145.0, 147.0), 'text': \" Well, I think he's inside edge this straight away.\"}, {'timestamp': (147.0, 148.0), 'text': \" He's reviewed it.\"}, {'timestamp': (148.0, 149.0), 'text': ' England is celebrating.'}, {'timestamp': (149.0, 152.0), 'text': \" I'm pretty sure there's a big inside edge.\"}, {'timestamp': (152.0, 154.0), 'text': ' This will be the one.'}, {'timestamp': (154.0, 156.0), 'text': \" Oh, he's hit it.\"}, {'timestamp': (156.0, 172.0), 'text': \" Oh, he's hit it. Oh, he's hit it. Which folks\"}, {'timestamp': (172.0, 187.0), 'text': ' leaves us with one ball in the test match and one we It really is. Well, that is confirmation.'}, {'timestamp': (187.0, 188.0), 'text': \" It's not out.\"}, {'timestamp': (188.0, 190.0), 'text': ' This is just fantastic.'}, {'timestamp': (190.0, 192.0), 'text': ' How do you explain this to people?'}, {'timestamp': (192.0, 194.0), 'text': ' Five days this match has gone on for.'}, {'timestamp': (194.0, 197.0), 'text': \" It's come down to the very last ball.\"}, {'timestamp': (197.0, 204.0), 'text': \" It's a good ball and it doesn't carry the slip.\"}, {'timestamp': (204.0, 208.0), 'text': ' And the match is drawn and the disbelief is apparent.'}, {'timestamp': (208.0, 212.0), 'text': ' The anti-climax sensed by the England players.'}, {'timestamp': (212.0, 216.0), 'text': ' The immense relief from the Sri Lankan changing room.'}, {'timestamp': (216.0, 219.0), 'text': ' The pictures telling the story on every face.'}, {'timestamp': (222.0, 226.0), 'text': ' Unbelievable scenes at'}, {'timestamp': (226.0, 233.0), 'text': ' Lords.'}, {'timestamp': (235.0, 237.0), 'text': \" Really it's hard to tell such a story because a card gives you\"}, {'timestamp': (237.0, 238.0), 'text': ' some facts and some figures but it'}, {'timestamp': (238.0, 240.0), 'text': ' gives you nothing of the emotion'}, {'timestamp': (240.0, 242.0), 'text': ' or as Michael Vaughn said of the'}, {'timestamp': (242.0, 243.0), 'text': ' drama.'}, {'timestamp': (243.0, 244.0), 'text': ' 219.'}, {'timestamp': (244.0, 246.04), 'text': \" Kuma Sangakara with 61 led the way that we mustn't ignore\"}, {'timestamp': (246.04, 248.56), 'text': ' the managed above him in that list, the council silver.'}, {'timestamp': (248.56, 251.72), 'text': ' What a performance from him in both innings of this match.'}, {'timestamp': (251.72, 254.12), 'text': ' When Sangakara went, you felt the door was open.'}, {'timestamp': (254.12, 255.32), 'text': ' Couldn England slam its shut?'}, {'timestamp': (255.32, 257.88), 'text': ' Not quite is the answer to that question.'}, {'timestamp': (257.88, 261.6), 'text': ' Angelo Matthews, hang on in there and defied that England attack.'}, {'timestamp': (261.6, 264.64), 'text': ' Four wickets for James Anderson, three for Stuart Broad'}, {'timestamp': (264.64, 270.04), 'text': \" and two for Chris Jordan. Everybody pulled everything out, all the stops and it wasn't\"}, {'timestamp': (270.04, 275.24), 'text': ' quite enough in the end for England to manage to win the test match. Well done Sri Lanka,'}, {'timestamp': (275.24, 279.72), 'text': \" they have such courage and they have such conviction. They're so proud of their island, they\"}, {'timestamp': (279.72, 283.72), 'text': \" play for it, they play for their people and they've managed to pull off a brilliant thing\"}, {'timestamp': (283.72, 285.48), 'text': \" here at Lawrence. They've been outplayed for the main part of for their people and they managed to pull off a brilliant thing here at Lawrence.\"}, {'timestamp': (285.48, 288.76), 'text': \" They've been outplayed for the main part of this test match but they hung on and they\"}, {'timestamp': (288.76, None), 'text': ' go to headingly with the series still level. you'}]"
   ]
  },
  {
   "cell_type": "code",
   "execution_count": 21,
   "metadata": {},
   "outputs": [],
   "source": [
    "llm = LLM_gemini(api_key=dotenv.get_key(key_to_get=\"GOOGLE_API_KEY\", dotenv_path = \".env\"))"
   ]
  },
  {
   "cell_type": "code",
   "execution_count": 22,
   "metadata": {},
   "outputs": [],
   "source": [
    "result = llm.get_timestamps(commentary)"
   ]
  },
  {
   "cell_type": "code",
   "execution_count": 30,
   "metadata": {},
   "outputs": [
    {
     "data": {
      "text/plain": [
       "'[{\"text\": \"Max down the leg side and he\\'s got it\", \"timestap\": (17.0, 20.0)},{\"text\": \"Dhawan and five ball remaining\", \"timestap\": (23.0, 26.0)},{\"text\": \"Another good catch from Mett Pryor\", \"timestap\": (35.0, 37.0)},{\"text\": \"Cross Africy broad\", \"timestap\": (39.0, 41.0)},{\"text\": \"Harath goes for one\", \"timestap\": (47.52, 48.84)},{\"text\": \"Sri Lanka nine down and five ball raming\", \"timestap\": (49.72, 51.08)},{\"text\": \"Whoa and headles him with the first up\", \"timestap\": (86.0, 91.0)},{\"text\": \"Harath reviews that he should not have been given out because that hand is off the bat\", \"timestap\": (63.04, 70.0)},{\"text\": \"He\\'s hit it\", \"timestap\": (154.0, 156.0)},{\"text\": \"It\\'s not out\", \"timestap\": (187.0, 188.0)},{\"text\": \"And the match is drawn\", \"timestap\": (204.0, 208.0)},{\"text\": \"Kuma sangakara with 61 led the way\", \"timestap\": (244.0, 246.04)},{\"text\": \"Foru Wickets for James anderson\", \"timestap\": (261.6, 264.64)},{\"text\": \"Well done Si Lanka\", \"timestap\": (275.24, 279.72)}]'"
      ]
     },
     "execution_count": 30,
     "metadata": {},
     "output_type": "execute_result"
    }
   ],
   "source": [
    "result"
   ]
  },
  {
   "cell_type": "code",
   "execution_count": 24,
   "metadata": {},
   "outputs": [],
   "source": [
    "import json"
   ]
  },
  {
   "cell_type": "code",
   "execution_count": 33,
   "metadata": {},
   "outputs": [],
   "source": [
    "r = json.loads(result)"
   ]
  },
  {
   "cell_type": "code",
   "execution_count": 31,
   "metadata": {},
   "outputs": [],
   "source": [
    "result = result.replace('(','[')"
   ]
  },
  {
   "cell_type": "code",
   "execution_count": 32,
   "metadata": {},
   "outputs": [],
   "source": [
    "result = result.replace(')',']')"
   ]
  },
  {
   "cell_type": "code",
   "execution_count": null,
   "metadata": {},
   "outputs": [],
   "source": []
  }
 ],
 "metadata": {
  "kernelspec": {
   "display_name": "cuda",
   "language": "python",
   "name": "python3"
  },
  "language_info": {
   "codemirror_mode": {
    "name": "ipython",
    "version": 3
   },
   "file_extension": ".py",
   "mimetype": "text/x-python",
   "name": "python",
   "nbconvert_exporter": "python",
   "pygments_lexer": "ipython3",
   "version": "3.11.5"
  }
 },
 "nbformat": 4,
 "nbformat_minor": 2
}
